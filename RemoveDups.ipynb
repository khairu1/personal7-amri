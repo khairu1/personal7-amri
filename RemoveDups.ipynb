{
 "cells": [
  {
   "cell_type": "code",
   "execution_count": 1,
   "id": "6c5863eb",
   "metadata": {},
   "outputs": [
    {
     "ename": "ModuleNotFoundError",
     "evalue": "No module named 'LinkedList'",
     "output_type": "error",
     "traceback": [
      "\u001b[1;31m---------------------------------------------------------------------------\u001b[0m",
      "\u001b[1;31mModuleNotFoundError\u001b[0m                       Traceback (most recent call last)",
      "Input \u001b[1;32mIn [1]\u001b[0m, in \u001b[0;36m<cell line: 7>\u001b[1;34m()\u001b[0m\n\u001b[0;32m      1\u001b[0m \u001b[38;5;66;03m#   Created by Elshad Karimov on 17/05/2020.\u001b[39;00m\n\u001b[0;32m      2\u001b[0m \u001b[38;5;66;03m#   Copyright © 2020 AppMillers. All rights reserved.\u001b[39;00m\n\u001b[0;32m      3\u001b[0m \n\u001b[0;32m      4\u001b[0m \u001b[38;5;66;03m# Question 1 - Remove Dups : Write a code to remove duplicates from an unsorted linked list. \u001b[39;00m\n\u001b[1;32m----> 7\u001b[0m \u001b[38;5;28;01mfrom\u001b[39;00m \u001b[38;5;21;01mLinkedList\u001b[39;00m \u001b[38;5;28;01mimport\u001b[39;00m LinkedList\n\u001b[0;32m      9\u001b[0m \u001b[38;5;28;01mdef\u001b[39;00m \u001b[38;5;21mremoveDups\u001b[39m(ll):\n\u001b[0;32m     10\u001b[0m     \u001b[38;5;28;01mif\u001b[39;00m ll\u001b[38;5;241m.\u001b[39mhead \u001b[38;5;129;01mis\u001b[39;00m \u001b[38;5;28;01mNone\u001b[39;00m:\n",
      "\u001b[1;31mModuleNotFoundError\u001b[0m: No module named 'LinkedList'"
     ]
    }
   ],
   "source": [
    "#   Created by Elshad Karimov on 17/05/2020.\n",
    "#   Copyright © 2020 AppMillers. All rights reserved.\n",
    "\n",
    "# Question 1 - Remove Dups : Write a code to remove duplicates from an unsorted linked list. \n",
    "\n",
    "\n",
    "from LinkedList import LinkedList\n",
    "\n",
    "def removeDups(ll):\n",
    "    if ll.head is None:\n",
    "        return\n",
    "    else:\n",
    "        currentNode = ll.head\n",
    "        visited = set([currentNode.value])\n",
    "        while currentNode.next:\n",
    "            if currentNode.next.value in visited:\n",
    "                currentNode.next = currentNode.next.next\n",
    "            else:\n",
    "                visited.add(currentNode.next.value)\n",
    "                currentNode = currentNode.next\n",
    "        return ll\n",
    "\n",
    "def removeDups1(ll):\n",
    "    if ll.head is None:\n",
    "        return\n",
    "    \n",
    "    currentNode = ll.head\n",
    "    while currentNode:\n",
    "        runner = currentNode\n",
    "        while runner.next:\n",
    "            if runner.next.value == currentNode.value:\n",
    "                runner.next = runner.next.next\n",
    "            else:\n",
    "                runner = runner.next\n",
    "        currentNode = currentNode.next\n",
    "    return ll.head\n",
    "\n",
    "\n",
    "\n",
    "customLL = LinkedList()\n",
    "customLL.generate(10, 0, 99)\n",
    "print(customLL)\n",
    "removeDups1(customLL)\n",
    "print(customLL)"
   ]
  },
  {
   "cell_type": "code",
   "execution_count": null,
   "id": "2a2bfe7f",
   "metadata": {},
   "outputs": [],
   "source": []
  }
 ],
 "metadata": {
  "kernelspec": {
   "display_name": "Python 3 (ipykernel)",
   "language": "python",
   "name": "python3"
  },
  "language_info": {
   "codemirror_mode": {
    "name": "ipython",
    "version": 3
   },
   "file_extension": ".py",
   "mimetype": "text/x-python",
   "name": "python",
   "nbconvert_exporter": "python",
   "pygments_lexer": "ipython3",
   "version": "3.9.12"
  }
 },
 "nbformat": 4,
 "nbformat_minor": 5
}
